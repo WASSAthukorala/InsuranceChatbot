{
 "cells": [
  {
   "cell_type": "code",
   "execution_count": 1,
   "metadata": {},
   "outputs": [],
   "source": [
    "# !pip install llama-index -U --no-cache-dir --force-reinstall\n",
    "# !pip install -U llama-index-core\n",
    "# !pip install -U llama-index-embeddings-azure-openai\n",
    "# !pip install -U llama-index-llms-azure-openai\n",
    "# !pip install -U qdrant_client fastembed\n",
    "# !pip install llama-index-vector-stores-qdrant llama-index-readers-file llama-index-embeddings-fastembed llama-index-llms-openai"
   ]
  },
  {
   "cell_type": "code",
   "execution_count": 2,
   "metadata": {},
   "outputs": [
    {
     "name": "stderr",
     "output_type": "stream",
     "text": [
      "c:\\Users\\Sanduni\\anaconda3\\envs\\myenv\\lib\\site-packages\\tqdm\\auto.py:21: TqdmWarning: IProgress not found. Please update jupyter and ipywidgets. See https://ipywidgets.readthedocs.io/en/stable/user_install.html\n",
      "  from .autonotebook import tqdm as notebook_tqdm\n"
     ]
    }
   ],
   "source": [
    "import requests\n",
    "import pandas as pd\n",
    "import os, yaml, qdrant_client\n",
    "from llama_index.llms.openai import OpenAI\n",
    "from llama_index.core import SimpleDirectoryReader\n",
    "from llama_index.core.text_splitter import SentenceSplitter\n",
    "from llama_index.embeddings.voyageai import VoyageEmbedding\n",
    "from llama_index.vector_stores.qdrant import QdrantVectorStore\n",
    "from llama_index.core.postprocessor import SentenceTransformerRerank\n",
    "from llama_index.core import set_global_service_context, ServiceContext, \\\n",
    "                             PromptHelper, StorageContext, VectorStoreIndex, load_index_from_storage"
   ]
  },
  {
   "cell_type": "code",
   "execution_count": 3,
   "metadata": {},
   "outputs": [],
   "source": [
    "with open(\"secrets.yaml\", \"r\") as file:\n",
    "    secrets = yaml.safe_load(file)\n",
    "\n",
    "os.environ[\"OPENAI_API_KEY\"] = secrets.get('OPENAI_API_KEY')\n",
    "os.environ[\"VOYAGE_AI_API_KEY\"] = secrets.get('VOYAGE_AI_API_KEY')"
   ]
  },
  {
   "cell_type": "code",
   "execution_count": 4,
   "metadata": {},
   "outputs": [
    {
     "name": "stderr",
     "output_type": "stream",
     "text": [
      "C:\\Users\\Sanduni\\AppData\\Local\\Temp\\ipykernel_16672\\1377437198.py:19: DeprecationWarning: Call to deprecated function (or staticmethod) from_defaults. (ServiceContext is deprecated, please use `llama_index.settings.Settings` instead.) -- Deprecated since version 0.10.0.\n",
      "  service_context = ServiceContext.from_defaults(\n"
     ]
    }
   ],
   "source": [
    "llm = OpenAI(\n",
    "            api_key=os.environ[\"OPENAI_API_KEY\"],\n",
    "            model=\"gpt-3.5-turbo\",\n",
    "            )\n",
    "\n",
    "embedding_llm = VoyageEmbedding(\n",
    "                                model_name=\"voyage-2\", \n",
    "                                voyage_api_key=os.environ[\"VOYAGE_AI_API_KEY\"]\n",
    "                                )\n",
    "\n",
    "text_splitter = SentenceSplitter(chunk_size=1024, chunk_overlap=20)\n",
    "prompt_helper = PromptHelper(\n",
    "                            context_window=4096,\n",
    "                            num_output=256,\n",
    "                            chunk_overlap_ratio=0.1,\n",
    "                            chunk_size_limit=None,\n",
    "                            )   \n",
    "\n",
    "service_context = ServiceContext.from_defaults(\n",
    "                                            llm=llm,\n",
    "                                            embed_model=embedding_llm,\n",
    "                                            text_splitter=text_splitter,\n",
    "                                            prompt_helper=prompt_helper,\n",
    "                                            )   \n",
    "\n",
    "set_global_service_context(service_context)"
   ]
  },
  {
   "cell_type": "code",
   "execution_count": 5,
   "metadata": {},
   "outputs": [],
   "source": [
    "# if not os.path.exists(\"./insurance_index\"):\n",
    "#     documents = SimpleDirectoryReader(\"data\").load_data()\n",
    "\n",
    "#     client = qdrant_client.QdrantClient(path=\"./insurance_index\")\n",
    "#     vector_store = QdrantVectorStore(\n",
    "#                                     client=client,\n",
    "#                                     collection_name=\"insurance\"\n",
    "#                                     )\n",
    "#     storage_context = StorageContext.from_defaults(vector_store=vector_store)\n",
    "#     index = VectorStoreIndex.from_documents(\n",
    "#                                             documents,\n",
    "#                                             storage_context=storage_context\n",
    "#                                             )\n",
    "\n",
    "#     # save the index\n",
    "#     index.storage_context.persist(persist_dir=\"./insurance_index\")\n",
    "\n",
    "# client = qdrant_client.QdrantClient(path=\"./insurance_index\")\n",
    "# vector_store = QdrantVectorStore(\n",
    "#                                 client=client,\n",
    "#                                 collection_name=\"insurance\"\n",
    "#                                 )\n",
    "# storage_context = StorageContext.from_defaults(\n",
    "#                                                 vector_store=vector_store, \n",
    "#                                                 persist_dir=\"./insurance_index\"\n",
    "#                                                 )\n",
    "# index = load_index_from_storage(storage_context)\n",
    "# rerank = SentenceTransformerRerank(\n",
    "#                                     model=\"cross-encoder/ms-marco-MiniLM-L-2-v2\", \n",
    "#                                     top_n=3\n",
    "#                                     )\n",
    "\n",
    "# query_engine = index.as_query_engine(\n",
    "#                                     similarity_top_k=10, \n",
    "#                                     node_postprocessors=[rerank] \n",
    "#                                     )\n",
    "\n",
    "if not os.path.exists(\"./insurance_index\"):\n",
    "    documents = SimpleDirectoryReader(\"data\").load_data()\n",
    "\n",
    "    client = qdrant_client.QdrantClient(path=\"./insurance_index\")\n",
    "    vector_store = QdrantVectorStore(\n",
    "                                    client=client,\n",
    "                                    collection_name=\"insurance\"\n",
    "                                    )\n",
    "    storage_context = StorageContext.from_defaults(vector_store=vector_store)\n",
    "    index = VectorStoreIndex.from_documents(\n",
    "                                            documents,\n",
    "                                            storage_context=storage_context\n",
    "                                            )\n",
    "\n",
    "    # save the index\n",
    "    index.storage_context.persist(persist_dir=\"./insurance_index\")\n",
    "\n",
    "client = qdrant_client.QdrantClient(path=\"./insurance_index\")\n",
    "vector_store = QdrantVectorStore(\n",
    "                                client=client,\n",
    "                                collection_name=\"insurance\"\n",
    "                                )\n",
    "storage_context = StorageContext.from_defaults(\n",
    "                                                vector_store=vector_store, \n",
    "                                                persist_dir=\"./insurance_index\"\n",
    "                                                )\n",
    "index = load_index_from_storage(storage_context)\n",
    "rerank = SentenceTransformerRerank(\n",
    "                                    model=\"cross-encoder/ms-marco-MiniLM-L-2-v2\", \n",
    "                                    top_n=3\n",
    "                                    )\n",
    "\n",
    "query_engine = index.as_query_engine(\n",
    "                                    similarity_top_k=10, \n",
    "                                    node_postprocessors=[rerank] \n",
    "                                    )"
   ]
  },
  {
   "cell_type": "code",
   "execution_count": 6,
   "metadata": {},
   "outputs": [],
   "source": [
    "def generate_response_df():\n",
    "    df_q = pd.read_csv(\"docs/Question for Chatbot.csv\")\n",
    "    df_q['Responses'] = df_q['Questions'].apply(lambda x: str(query_engine.query(x)))\n",
    "    df_q.to_csv(\"docs/Response from Chatbot.csv\", index=False)"
   ]
  },
  {
   "cell_type": "code",
   "execution_count": 7,
   "metadata": {},
   "outputs": [
    {
     "data": {
      "text/plain": [
       "Response(response='Comprehensive insurance would be the best insurance for a new car.', source_nodes=[NodeWithScore(node=TextNode(id_='a4a6588c-57cb-487a-8aeb-120858999278', embedding=None, metadata={'page_label': '13', 'file_name': 'motor-english-policy-book-2023.pdf', 'file_path': '/Users/isurusudarsri/Library/Mobile Documents/com~apple~CloudDocs/ML DEV/Assignments/insuarance-chatbot/data/motor-english-policy-book-2023.pdf', 'file_type': 'application/pdf', 'file_size': 350502, 'creation_date': '2024-05-06', 'last_modified_date': '2024-05-03'}, excluded_embed_metadata_keys=['file_name', 'file_type', 'file_size', 'creation_date', 'last_modified_date', 'last_accessed_date'], excluded_llm_metadata_keys=['file_name', 'file_type', 'file_size', 'creation_date', 'last_modified_date', 'last_accessed_date'], relationships={<NodeRelationship.SOURCE: '1'>: RelatedNodeInfo(node_id='5ee203b1-701b-4939-86da-3729df4115e7', node_type=<ObjectType.DOCUMENT: '4'>, metadata={'page_label': '13', 'file_name': 'motor-english-policy-book-2023.pdf', 'file_path': '/Users/isurusudarsri/Library/Mobile Documents/com~apple~CloudDocs/ML DEV/Assignments/insuarance-chatbot/data/motor-english-policy-book-2023.pdf', 'file_type': 'application/pdf', 'file_size': 350502, 'creation_date': '2024-05-06', 'last_modified_date': '2024-05-03'}, hash='6b7dd2fd329e6c1297c6537525b4ebcc863d0ab0e325776d477a8f471ec9f595'), <NodeRelationship.NEXT: '3'>: RelatedNodeInfo(node_id='e6b7c88c-e2b9-4ad4-8185-d10b82248259', node_type=<ObjectType.TEXT: '1'>, metadata={}, hash='5e8d1556f83d32f353bd88a966582e1679946928102e03f314a0ad5f94214f09')}, text=\"104.  The   Company   may  a t its  own   option   repair, reinstate   or   replace   any   Motor    Vehicle    described  in  the \\n     Schedule(s)  hereto  or part   thereof   and/or   its accessories or spare parts or may pay in cash the amount of the \\n     loss or damage, and the liability of the Company  shall  not  exceed  the  actual  value  of  the  parts  damaged  or \\n     lost plus the reasonable cost of /f_itting and in no case exceed  the  Insured's  estimate  of  the value  (Est. Value) of \\n     such Motor Vehicle (including accessories and spare parts) as speci/f_ied in the said   Schedule(s),  or  the  value  of \\n      such Motor Vehicle (including accessories and spare parts) at the time of the loss  or  damage  whichever  is  less. \\n     In the event of loss or damage to the Motor Vehicle and/  or  its  accessories  necessitating  the  supply  of  a  part \\n     not obtainable from stocks held in Sri Lanka or in  the  event  of  the  Company  exercising  the  option  to  pay  in \\n     cash the amount of the loss or damage the liability of the Company in respect of any such part shall be \\n     limited to:\\n5. The   Insured   shall   take   all   reasonable   precautions   to   safeguard   from  loss  or  damage and to maintain in \\n     eﬃcient condition any Motor Vehicle described in the  Schedule(s)  hereto  and  the  Company  shall  have  at  all \\n    times free and full access to examine such Motor Vehicle or any part thereof or any  driver/rider  or  employee  of \\n    the insured. In the  event   of   any   accident   or   breakdown  such  Motor  Vehicle  shall  not  be  left  unattended \\n    without proper precautions being taken to prevent   further   damage  or   loss   and   if   such   Motor   Vehicle  be \\n    driven before the necessary repairs are eﬀected, any extension of the damage or any  further   damage   to   such \\n    Motor Vehicle shall be entirely at the Insured's own risk.\\n 6. The Company may cancel this Policy by sending seven days' notice by   registered   post   to   the   insured  at  his \\n      last known address and in such event will return to the Insured the premium paid less the  pro  rata  thereof  for \\n      the period the Policy has been in force or the Policy   may  be  cancelled  at  any  time  by  the  insured  on  seven \\n      days' notice and returning the current certi/f_icate of insurance  (provided  no  claim  has  arisen  during  the  then \\n      current of and period of insurance) and the insured shall be entitled  to  a  return  of  premium  less  premium  at \\n      the  Company's short period rates for the period the Policy has been in force.\\n1 week\\n1 Month\\n2 Month\\n3 Month\\n4 Month\\n6 Month\\n8 Month\\nExceeding 8 Months7/8\\n3/4\\n5/8\\n3/8\\n1/2\\n1/4\\n1/8\\nNo refundb. At   any   time   after   the  happening  of any event giving rise to a claim or series of claims the Company may \\n    pay to the insured the full amount of the Company's liability  under   that   Sub- Section   and   relinquish   the \\n    conduct of any defence settlement or proceedings  and  the   Company   shall   not   be   responsible   for   any \\n    damage alleged to have been caused to the insured in consequence  of  any  all eged  action  or  omission  of \\n    the Company in connection with such defence, settlement or proceedings or  of  the  Company relinquishing \\n    such conduct nor shall the Company be  liable   for   any   costs   or   expenses   whatsoever   incurred   by   the \\n    insured or any  claimant or other person after the Company shall have relinquished such conduct. \\na. \\ni. The price quoted in the latest catalogue or price list issued by the Manufacturer or his Agents in Sri Lanka; \\n    or\\nii.\", start_char_idx=0, end_char_idx=3694, text_template='{metadata_str}\\n\\n{content}', metadata_template='{key}: {value}', metadata_seperator='\\n'), score=-6.2936645), NodeWithScore(node=TextNode(id_='aacf3e11-7df5-45b9-9b15-745ededceb9f', embedding=None, metadata={'page_label': '5', 'file_name': 'motor-english-policy-book-2023.pdf', 'file_path': '/Users/isurusudarsri/Library/Mobile Documents/com~apple~CloudDocs/ML DEV/Assignments/insuarance-chatbot/data/motor-english-policy-book-2023.pdf', 'file_type': 'application/pdf', 'file_size': 350502, 'creation_date': '2024-05-06', 'last_modified_date': '2024-05-03'}, excluded_embed_metadata_keys=['file_name', 'file_type', 'file_size', 'creation_date', 'last_modified_date', 'last_accessed_date'], excluded_llm_metadata_keys=['file_name', 'file_type', 'file_size', 'creation_date', 'last_modified_date', 'last_accessed_date'], relationships={<NodeRelationship.SOURCE: '1'>: RelatedNodeInfo(node_id='e4ddc3f2-1196-4f17-bcaf-936eb362368f', node_type=<ObjectType.DOCUMENT: '4'>, metadata={'page_label': '5', 'file_name': 'motor-english-policy-book-2023.pdf', 'file_path': '/Users/isurusudarsri/Library/Mobile Documents/com~apple~CloudDocs/ML DEV/Assignments/insuarance-chatbot/data/motor-english-policy-book-2023.pdf', 'file_type': 'application/pdf', 'file_size': 350502, 'creation_date': '2024-05-06', 'last_modified_date': '2024-05-03'}, hash='228ec37223c0ea96f4cfc4dd0825c5853020e338ba168537ae626d86ae6f77c8')}, text='Whereas the Insured described in the attached Schedule hereto (hereinafter  called \\'the  Insured\\')  by  a  proposal \\nand declaration, which shall be the basis of this contract and is deemed to be  incorporated   herein  has  applied \\nto\\n02(hereinafter called \\'the Company\\') for the insurance hereinafter contained   and  has  paid  or  agreed  to  pay  the \\npremium stated in the said Schedule as consideration for such insurance in respect of accident,  loss  or   damage \\noccurring during the \"cover period\" stated in the said Schedule  or  during  any  period  for  which  the  Company \\nmay accept payment for the renewal of this Policy.SRI LANKA INSURANCE CORPORATION LIMITED\\nThat subject to the  terms  exceptions  and  conditions  contained  herein  or  endorsed  or  otherwise  expressed \\nhereon.\\n1. The Company will indemnify the insured against loss   of  or  damage  to  any  Motor  Vehicle  described  in  the \\n     Schedule(s) hereto and/or its accessories and spare parts whilst thereon\\n2.But excluding:a. By accidental external means\\nb. By /f_ire, external explosion, self-ignition, lightning or burglary, house breaking or theft\\nc. By malicious act\\nd. Whilst in transit by road, rail, inland waterway, lift or elevator.\\na. In the case of private cars and motor cycles, the Company shall  not   be   liable   to   make   any  payment  in \\n     respect of consequential loss, depreciation, wear and tear, mechanical or  electrical   breakdown,  failure  or \\n      breakages.    a. The Insured\\'s estimate of value (including accessories and spare parts) of such motor vehicle.\\n    b. The value of such motor vehicle (including accessories and spare parts)\\nWhichever is the less\\nv. Loss of or damage to lamps, tyres, mudguards, buﬀers,  buﬀer  aprons,  buﬀer  brackets  and/or  paint  work \\n     on all vehicles insured for hiring purposes.i. Damage to tyres, tubes and other rubber items,   engine   parts,   wire   harness   and   sensors,   unless   such\\nvehicle sustains other damage at the same time in which event the liability of   the   company   in   respect   of \\ndamage to tyres, tubes and other rubber items, engine parts,wire  harness  and  sensors, shall  not  exceed  50 \\npercentum of the lost of replacement.\\nii. Except in the case of Private Car, loss of or damage to accessories, spare parts or integral  parts  by  burglary \\n     house breaking or theft unless such Vehicle is stolen at the same time.\\niii. Air bags on vehicles unless such motor vehicle sustains other damage at the same  time  but  in  any  event \\n     the liability of the Company in respect of air bags and related items shall not exceed 50  percentum  of  the \\n    cost of a new replacement.\\niv. Loss of   or   damage   to    Windscreen   &   windows on vehicles registered as Buses, Omnibuses and Motor \\n     Coaches in excess of 10 percentum of:NOW THIS POLICY WITNESSETH:\\nSECTION 1: DAMAGE TO OR LOSS OF VEHICLEMotor Vehicle Insurance Policy', start_char_idx=0, end_char_idx=2945, text_template='{metadata_str}\\n\\n{content}', metadata_template='{key}: {value}', metadata_seperator='\\n'), score=-6.5747695), NodeWithScore(node=TextNode(id_='d6d8b3c1-b022-4e15-b93a-7e0da284c3c8', embedding=None, metadata={'page_label': '27', 'file_name': 'motor-english-policy-book-2023.pdf', 'file_path': '/Users/isurusudarsri/Library/Mobile Documents/com~apple~CloudDocs/ML DEV/Assignments/insuarance-chatbot/data/motor-english-policy-book-2023.pdf', 'file_type': 'application/pdf', 'file_size': 350502, 'creation_date': '2024-05-06', 'last_modified_date': '2024-05-03'}, excluded_embed_metadata_keys=['file_name', 'file_type', 'file_size', 'creation_date', 'last_modified_date', 'last_accessed_date'], excluded_llm_metadata_keys=['file_name', 'file_type', 'file_size', 'creation_date', 'last_modified_date', 'last_accessed_date'], relationships={<NodeRelationship.SOURCE: '1'>: RelatedNodeInfo(node_id='179d51ef-945a-431f-8cfa-4d855a1778bc', node_type=<ObjectType.DOCUMENT: '4'>, metadata={'page_label': '27', 'file_name': 'motor-english-policy-book-2023.pdf', 'file_path': '/Users/isurusudarsri/Library/Mobile Documents/com~apple~CloudDocs/ML DEV/Assignments/insuarance-chatbot/data/motor-english-policy-book-2023.pdf', 'file_type': 'application/pdf', 'file_size': 350502, 'creation_date': '2024-05-06', 'last_modified_date': '2024-05-03'}, hash='cace053e2bf5ab573431d5f3043f670261bb7db6ef41e767495a514452d566c6')}, text='241. Shall have entered into a Hire Contract with the Insured.\\n2. Shall have satis/f_ied the Insured\\na. That such vehicle will be driven only by a person duly licensed to drive\\nb. That  such  person  has  not  been  refused  Motor  insurance or had his Insurance Policy cancelled or had \\n     special conditions imposed or and increased premium asked for by reason of claims experience.CLAUSE 25 - HIRE VEHICLES-HIRER DRIVING\\nCLAUSE 26 - DUTY FREE VEHICLES\\nCLAUSE 27 - SPECIAL TYPE CLAUSES\\nPassenger \\nIndemnity – \\n(Ambulance& Hearses)\\nExclusion of Losses \\nresulting from working \\nrisk while in use as a\\n tool of trade-all vehiclesIn consideration  of  the  insured  having  paid  an  additional  premium, it  is  hereby  understood  and  agreed  that \\nnotwithstanding anything to the contrary contained in this Policy unless  the  vehicle  described in this Schedule(s) \\nhereto is being driven by or is for the purpose of being driven by him in the charge of  the  insured  or  a  person  in \\nhis employment the Policy shall be operative only while such vehicle is let on  hire  by  the  insured  to  any  person \\n(hereinafter called the \"Hirer\") who:-\\nWhile  such  vehicle  is  let  on  hire  to the Hirer the Company shall not be liable for any loss, damage or liability due \\nto or arising from theft or conversion by the Hirer.\\nIt is hereby declared and agreed that the Estimated Value which  includes  accessories  and  spare  parts  appearing \\nin the Schedule(s) of the within Policy as declared by the insured, excludes the local Customs Duty.\\nIn Consideration of the above it is hereby declared and agreed that in the event of a claim under  Section 1  of  this\\n Policy necessitating the replacement of parts, the liability of the company for  such  parts  shall  exclude  the  local \\ncustoms duty of such parts.\\nNotwithstanding anything to the contrary contained in sub section 1 (ii) \\n(c) of section 2 (C) of this Policy but subject otherwise to the terms \\nexceptions and conditions of this Policy the Corporation will indemnify \\nthe Insured or any other person indemni/f_ied under Section 2 of this Policy \\nagainst all sum including claimants cost and expenses which he shall \\nbecome legally liable to pay in respect of death of or bodily injury to any \\npassenger (Excluding Patient/s) being carried in or upon entering or \\ngetting on to or alighting from any vehicle described in the Schedule \\nthereto but such indemnity is limited to the sum speci/f_ied in the schedule \\nin respect of any one such passenger.\\nProvided always that is the event of an accident occurring whilst such\\n Vehicle is carrying more than ............. persons (in addition to the \\nconductor if any and the driver) the Insured shall repay to the Corporation \\na rateable proportion of the total amount payable by the corporation by \\nreason of this Clause in respect of such accident in connection with \\nsuch Vehicle.\\nThe Corporation shall not be liable under Section 1 of this policy in \\nrespect of loss of or damage to the Vehicle described  in the \\nSchedule hereto arising out of tipping or operation as a tool of such \\nVehicle or of any plant forming part of such vehicle or attached thereto \\nincluding overturning risks except for loss or damage arising directly \\nfrom /f_ire external explosion, self-ignition, lighting, burglary, house \\nbreaking or theft.1. \\n2.', start_char_idx=0, end_char_idx=3349, text_template='{metadata_str}\\n\\n{content}', metadata_template='{key}: {value}', metadata_seperator='\\n'), score=-6.683218)], metadata={'a4a6588c-57cb-487a-8aeb-120858999278': {'page_label': '13', 'file_name': 'motor-english-policy-book-2023.pdf', 'file_path': '/Users/isurusudarsri/Library/Mobile Documents/com~apple~CloudDocs/ML DEV/Assignments/insuarance-chatbot/data/motor-english-policy-book-2023.pdf', 'file_type': 'application/pdf', 'file_size': 350502, 'creation_date': '2024-05-06', 'last_modified_date': '2024-05-03'}, 'aacf3e11-7df5-45b9-9b15-745ededceb9f': {'page_label': '5', 'file_name': 'motor-english-policy-book-2023.pdf', 'file_path': '/Users/isurusudarsri/Library/Mobile Documents/com~apple~CloudDocs/ML DEV/Assignments/insuarance-chatbot/data/motor-english-policy-book-2023.pdf', 'file_type': 'application/pdf', 'file_size': 350502, 'creation_date': '2024-05-06', 'last_modified_date': '2024-05-03'}, 'd6d8b3c1-b022-4e15-b93a-7e0da284c3c8': {'page_label': '27', 'file_name': 'motor-english-policy-book-2023.pdf', 'file_path': '/Users/isurusudarsri/Library/Mobile Documents/com~apple~CloudDocs/ML DEV/Assignments/insuarance-chatbot/data/motor-english-policy-book-2023.pdf', 'file_type': 'application/pdf', 'file_size': 350502, 'creation_date': '2024-05-06', 'last_modified_date': '2024-05-03'}})"
      ]
     },
     "execution_count": 7,
     "metadata": {},
     "output_type": "execute_result"
    }
   ],
   "source": [
    "query_engine.query(\"What is the best insurance for a new car?\")"
   ]
  },
  {
   "cell_type": "markdown",
   "metadata": {},
   "source": [
    "## Inference"
   ]
  },
  {
   "cell_type": "code",
   "execution_count": 8,
   "metadata": {},
   "outputs": [],
   "source": [
    "user_url = \"http://127.0.0.1:8000/chat/fetch-api\"\n",
    "response_url = \"http://127.0.0.1:8000/chat/reply?uuid={}&message={}\""
   ]
  },
  {
   "cell_type": "code",
   "execution_count": 9,
   "metadata": {},
   "outputs": [
    {
     "ename": "ConnectionError",
     "evalue": "HTTPConnectionPool(host='127.0.0.1', port=8000): Max retries exceeded with url: /chat/fetch-api (Caused by NewConnectionError('<urllib3.connection.HTTPConnection object at 0x000001997D034070>: Failed to establish a new connection: [WinError 10061] No connection could be made because the target machine actively refused it'))",
     "output_type": "error",
     "traceback": [
      "\u001b[1;31m---------------------------------------------------------------------------\u001b[0m",
      "\u001b[1;31mConnectionRefusedError\u001b[0m                    Traceback (most recent call last)",
      "File \u001b[1;32mc:\\Users\\Sanduni\\anaconda3\\envs\\myenv\\lib\\site-packages\\urllib3\\connection.py:198\u001b[0m, in \u001b[0;36mHTTPConnection._new_conn\u001b[1;34m(self)\u001b[0m\n\u001b[0;32m    197\u001b[0m \u001b[38;5;28;01mtry\u001b[39;00m:\n\u001b[1;32m--> 198\u001b[0m     sock \u001b[38;5;241m=\u001b[39m \u001b[43mconnection\u001b[49m\u001b[38;5;241;43m.\u001b[39;49m\u001b[43mcreate_connection\u001b[49m\u001b[43m(\u001b[49m\n\u001b[0;32m    199\u001b[0m \u001b[43m        \u001b[49m\u001b[43m(\u001b[49m\u001b[38;5;28;43mself\u001b[39;49m\u001b[38;5;241;43m.\u001b[39;49m\u001b[43m_dns_host\u001b[49m\u001b[43m,\u001b[49m\u001b[43m \u001b[49m\u001b[38;5;28;43mself\u001b[39;49m\u001b[38;5;241;43m.\u001b[39;49m\u001b[43mport\u001b[49m\u001b[43m)\u001b[49m\u001b[43m,\u001b[49m\n\u001b[0;32m    200\u001b[0m \u001b[43m        \u001b[49m\u001b[38;5;28;43mself\u001b[39;49m\u001b[38;5;241;43m.\u001b[39;49m\u001b[43mtimeout\u001b[49m\u001b[43m,\u001b[49m\n\u001b[0;32m    201\u001b[0m \u001b[43m        \u001b[49m\u001b[43msource_address\u001b[49m\u001b[38;5;241;43m=\u001b[39;49m\u001b[38;5;28;43mself\u001b[39;49m\u001b[38;5;241;43m.\u001b[39;49m\u001b[43msource_address\u001b[49m\u001b[43m,\u001b[49m\n\u001b[0;32m    202\u001b[0m \u001b[43m        \u001b[49m\u001b[43msocket_options\u001b[49m\u001b[38;5;241;43m=\u001b[39;49m\u001b[38;5;28;43mself\u001b[39;49m\u001b[38;5;241;43m.\u001b[39;49m\u001b[43msocket_options\u001b[49m\u001b[43m,\u001b[49m\n\u001b[0;32m    203\u001b[0m \u001b[43m    \u001b[49m\u001b[43m)\u001b[49m\n\u001b[0;32m    204\u001b[0m \u001b[38;5;28;01mexcept\u001b[39;00m socket\u001b[38;5;241m.\u001b[39mgaierror \u001b[38;5;28;01mas\u001b[39;00m e:\n",
      "File \u001b[1;32mc:\\Users\\Sanduni\\anaconda3\\envs\\myenv\\lib\\site-packages\\urllib3\\util\\connection.py:85\u001b[0m, in \u001b[0;36mcreate_connection\u001b[1;34m(address, timeout, source_address, socket_options)\u001b[0m\n\u001b[0;32m     84\u001b[0m \u001b[38;5;28;01mtry\u001b[39;00m:\n\u001b[1;32m---> 85\u001b[0m     \u001b[38;5;28;01mraise\u001b[39;00m err\n\u001b[0;32m     86\u001b[0m \u001b[38;5;28;01mfinally\u001b[39;00m:\n\u001b[0;32m     87\u001b[0m     \u001b[38;5;66;03m# Break explicitly a reference cycle\u001b[39;00m\n",
      "File \u001b[1;32mc:\\Users\\Sanduni\\anaconda3\\envs\\myenv\\lib\\site-packages\\urllib3\\util\\connection.py:73\u001b[0m, in \u001b[0;36mcreate_connection\u001b[1;34m(address, timeout, source_address, socket_options)\u001b[0m\n\u001b[0;32m     72\u001b[0m     sock\u001b[38;5;241m.\u001b[39mbind(source_address)\n\u001b[1;32m---> 73\u001b[0m \u001b[43msock\u001b[49m\u001b[38;5;241;43m.\u001b[39;49m\u001b[43mconnect\u001b[49m\u001b[43m(\u001b[49m\u001b[43msa\u001b[49m\u001b[43m)\u001b[49m\n\u001b[0;32m     74\u001b[0m \u001b[38;5;66;03m# Break explicitly a reference cycle\u001b[39;00m\n",
      "\u001b[1;31mConnectionRefusedError\u001b[0m: [WinError 10061] No connection could be made because the target machine actively refused it",
      "\nThe above exception was the direct cause of the following exception:\n",
      "\u001b[1;31mNewConnectionError\u001b[0m                        Traceback (most recent call last)",
      "File \u001b[1;32mc:\\Users\\Sanduni\\anaconda3\\envs\\myenv\\lib\\site-packages\\urllib3\\connectionpool.py:793\u001b[0m, in \u001b[0;36mHTTPConnectionPool.urlopen\u001b[1;34m(self, method, url, body, headers, retries, redirect, assert_same_host, timeout, pool_timeout, release_conn, chunked, body_pos, preload_content, decode_content, **response_kw)\u001b[0m\n\u001b[0;32m    792\u001b[0m \u001b[38;5;66;03m# Make the request on the HTTPConnection object\u001b[39;00m\n\u001b[1;32m--> 793\u001b[0m response \u001b[38;5;241m=\u001b[39m \u001b[38;5;28;43mself\u001b[39;49m\u001b[38;5;241;43m.\u001b[39;49m\u001b[43m_make_request\u001b[49m\u001b[43m(\u001b[49m\n\u001b[0;32m    794\u001b[0m \u001b[43m    \u001b[49m\u001b[43mconn\u001b[49m\u001b[43m,\u001b[49m\n\u001b[0;32m    795\u001b[0m \u001b[43m    \u001b[49m\u001b[43mmethod\u001b[49m\u001b[43m,\u001b[49m\n\u001b[0;32m    796\u001b[0m \u001b[43m    \u001b[49m\u001b[43murl\u001b[49m\u001b[43m,\u001b[49m\n\u001b[0;32m    797\u001b[0m \u001b[43m    \u001b[49m\u001b[43mtimeout\u001b[49m\u001b[38;5;241;43m=\u001b[39;49m\u001b[43mtimeout_obj\u001b[49m\u001b[43m,\u001b[49m\n\u001b[0;32m    798\u001b[0m \u001b[43m    \u001b[49m\u001b[43mbody\u001b[49m\u001b[38;5;241;43m=\u001b[39;49m\u001b[43mbody\u001b[49m\u001b[43m,\u001b[49m\n\u001b[0;32m    799\u001b[0m \u001b[43m    \u001b[49m\u001b[43mheaders\u001b[49m\u001b[38;5;241;43m=\u001b[39;49m\u001b[43mheaders\u001b[49m\u001b[43m,\u001b[49m\n\u001b[0;32m    800\u001b[0m \u001b[43m    \u001b[49m\u001b[43mchunked\u001b[49m\u001b[38;5;241;43m=\u001b[39;49m\u001b[43mchunked\u001b[49m\u001b[43m,\u001b[49m\n\u001b[0;32m    801\u001b[0m \u001b[43m    \u001b[49m\u001b[43mretries\u001b[49m\u001b[38;5;241;43m=\u001b[39;49m\u001b[43mretries\u001b[49m\u001b[43m,\u001b[49m\n\u001b[0;32m    802\u001b[0m \u001b[43m    \u001b[49m\u001b[43mresponse_conn\u001b[49m\u001b[38;5;241;43m=\u001b[39;49m\u001b[43mresponse_conn\u001b[49m\u001b[43m,\u001b[49m\n\u001b[0;32m    803\u001b[0m \u001b[43m    \u001b[49m\u001b[43mpreload_content\u001b[49m\u001b[38;5;241;43m=\u001b[39;49m\u001b[43mpreload_content\u001b[49m\u001b[43m,\u001b[49m\n\u001b[0;32m    804\u001b[0m \u001b[43m    \u001b[49m\u001b[43mdecode_content\u001b[49m\u001b[38;5;241;43m=\u001b[39;49m\u001b[43mdecode_content\u001b[49m\u001b[43m,\u001b[49m\n\u001b[0;32m    805\u001b[0m \u001b[43m    \u001b[49m\u001b[38;5;241;43m*\u001b[39;49m\u001b[38;5;241;43m*\u001b[39;49m\u001b[43mresponse_kw\u001b[49m\u001b[43m,\u001b[49m\n\u001b[0;32m    806\u001b[0m \u001b[43m\u001b[49m\u001b[43m)\u001b[49m\n\u001b[0;32m    808\u001b[0m \u001b[38;5;66;03m# Everything went great!\u001b[39;00m\n",
      "File \u001b[1;32mc:\\Users\\Sanduni\\anaconda3\\envs\\myenv\\lib\\site-packages\\urllib3\\connectionpool.py:496\u001b[0m, in \u001b[0;36mHTTPConnectionPool._make_request\u001b[1;34m(self, conn, method, url, body, headers, retries, timeout, chunked, response_conn, preload_content, decode_content, enforce_content_length)\u001b[0m\n\u001b[0;32m    495\u001b[0m \u001b[38;5;28;01mtry\u001b[39;00m:\n\u001b[1;32m--> 496\u001b[0m     \u001b[43mconn\u001b[49m\u001b[38;5;241;43m.\u001b[39;49m\u001b[43mrequest\u001b[49m\u001b[43m(\u001b[49m\n\u001b[0;32m    497\u001b[0m \u001b[43m        \u001b[49m\u001b[43mmethod\u001b[49m\u001b[43m,\u001b[49m\n\u001b[0;32m    498\u001b[0m \u001b[43m        \u001b[49m\u001b[43murl\u001b[49m\u001b[43m,\u001b[49m\n\u001b[0;32m    499\u001b[0m \u001b[43m        \u001b[49m\u001b[43mbody\u001b[49m\u001b[38;5;241;43m=\u001b[39;49m\u001b[43mbody\u001b[49m\u001b[43m,\u001b[49m\n\u001b[0;32m    500\u001b[0m \u001b[43m        \u001b[49m\u001b[43mheaders\u001b[49m\u001b[38;5;241;43m=\u001b[39;49m\u001b[43mheaders\u001b[49m\u001b[43m,\u001b[49m\n\u001b[0;32m    501\u001b[0m \u001b[43m        \u001b[49m\u001b[43mchunked\u001b[49m\u001b[38;5;241;43m=\u001b[39;49m\u001b[43mchunked\u001b[49m\u001b[43m,\u001b[49m\n\u001b[0;32m    502\u001b[0m \u001b[43m        \u001b[49m\u001b[43mpreload_content\u001b[49m\u001b[38;5;241;43m=\u001b[39;49m\u001b[43mpreload_content\u001b[49m\u001b[43m,\u001b[49m\n\u001b[0;32m    503\u001b[0m \u001b[43m        \u001b[49m\u001b[43mdecode_content\u001b[49m\u001b[38;5;241;43m=\u001b[39;49m\u001b[43mdecode_content\u001b[49m\u001b[43m,\u001b[49m\n\u001b[0;32m    504\u001b[0m \u001b[43m        \u001b[49m\u001b[43menforce_content_length\u001b[49m\u001b[38;5;241;43m=\u001b[39;49m\u001b[43menforce_content_length\u001b[49m\u001b[43m,\u001b[49m\n\u001b[0;32m    505\u001b[0m \u001b[43m    \u001b[49m\u001b[43m)\u001b[49m\n\u001b[0;32m    507\u001b[0m \u001b[38;5;66;03m# We are swallowing BrokenPipeError (errno.EPIPE) since the server is\u001b[39;00m\n\u001b[0;32m    508\u001b[0m \u001b[38;5;66;03m# legitimately able to close the connection after sending a valid response.\u001b[39;00m\n\u001b[0;32m    509\u001b[0m \u001b[38;5;66;03m# With this behaviour, the received response is still readable.\u001b[39;00m\n",
      "File \u001b[1;32mc:\\Users\\Sanduni\\anaconda3\\envs\\myenv\\lib\\site-packages\\urllib3\\connection.py:400\u001b[0m, in \u001b[0;36mHTTPConnection.request\u001b[1;34m(self, method, url, body, headers, chunked, preload_content, decode_content, enforce_content_length)\u001b[0m\n\u001b[0;32m    399\u001b[0m     \u001b[38;5;28mself\u001b[39m\u001b[38;5;241m.\u001b[39mputheader(header, value)\n\u001b[1;32m--> 400\u001b[0m \u001b[38;5;28;43mself\u001b[39;49m\u001b[38;5;241;43m.\u001b[39;49m\u001b[43mendheaders\u001b[49m\u001b[43m(\u001b[49m\u001b[43m)\u001b[49m\n\u001b[0;32m    402\u001b[0m \u001b[38;5;66;03m# If we're given a body we start sending that in chunks.\u001b[39;00m\n",
      "File \u001b[1;32mc:\\Users\\Sanduni\\anaconda3\\envs\\myenv\\lib\\http\\client.py:1251\u001b[0m, in \u001b[0;36mHTTPConnection.endheaders\u001b[1;34m(self, message_body, encode_chunked)\u001b[0m\n\u001b[0;32m   1250\u001b[0m     \u001b[38;5;28;01mraise\u001b[39;00m CannotSendHeader()\n\u001b[1;32m-> 1251\u001b[0m \u001b[38;5;28;43mself\u001b[39;49m\u001b[38;5;241;43m.\u001b[39;49m\u001b[43m_send_output\u001b[49m\u001b[43m(\u001b[49m\u001b[43mmessage_body\u001b[49m\u001b[43m,\u001b[49m\u001b[43m \u001b[49m\u001b[43mencode_chunked\u001b[49m\u001b[38;5;241;43m=\u001b[39;49m\u001b[43mencode_chunked\u001b[49m\u001b[43m)\u001b[49m\n",
      "File \u001b[1;32mc:\\Users\\Sanduni\\anaconda3\\envs\\myenv\\lib\\http\\client.py:1011\u001b[0m, in \u001b[0;36mHTTPConnection._send_output\u001b[1;34m(self, message_body, encode_chunked)\u001b[0m\n\u001b[0;32m   1010\u001b[0m \u001b[38;5;28;01mdel\u001b[39;00m \u001b[38;5;28mself\u001b[39m\u001b[38;5;241m.\u001b[39m_buffer[:]\n\u001b[1;32m-> 1011\u001b[0m \u001b[38;5;28;43mself\u001b[39;49m\u001b[38;5;241;43m.\u001b[39;49m\u001b[43msend\u001b[49m\u001b[43m(\u001b[49m\u001b[43mmsg\u001b[49m\u001b[43m)\u001b[49m\n\u001b[0;32m   1013\u001b[0m \u001b[38;5;28;01mif\u001b[39;00m message_body \u001b[38;5;129;01mis\u001b[39;00m \u001b[38;5;129;01mnot\u001b[39;00m \u001b[38;5;28;01mNone\u001b[39;00m:\n\u001b[0;32m   1014\u001b[0m \n\u001b[0;32m   1015\u001b[0m     \u001b[38;5;66;03m# create a consistent interface to message_body\u001b[39;00m\n",
      "File \u001b[1;32mc:\\Users\\Sanduni\\anaconda3\\envs\\myenv\\lib\\http\\client.py:951\u001b[0m, in \u001b[0;36mHTTPConnection.send\u001b[1;34m(self, data)\u001b[0m\n\u001b[0;32m    950\u001b[0m \u001b[38;5;28;01mif\u001b[39;00m \u001b[38;5;28mself\u001b[39m\u001b[38;5;241m.\u001b[39mauto_open:\n\u001b[1;32m--> 951\u001b[0m     \u001b[38;5;28;43mself\u001b[39;49m\u001b[38;5;241;43m.\u001b[39;49m\u001b[43mconnect\u001b[49m\u001b[43m(\u001b[49m\u001b[43m)\u001b[49m\n\u001b[0;32m    952\u001b[0m \u001b[38;5;28;01melse\u001b[39;00m:\n",
      "File \u001b[1;32mc:\\Users\\Sanduni\\anaconda3\\envs\\myenv\\lib\\site-packages\\urllib3\\connection.py:238\u001b[0m, in \u001b[0;36mHTTPConnection.connect\u001b[1;34m(self)\u001b[0m\n\u001b[0;32m    237\u001b[0m \u001b[38;5;28;01mdef\u001b[39;00m \u001b[38;5;21mconnect\u001b[39m(\u001b[38;5;28mself\u001b[39m) \u001b[38;5;241m-\u001b[39m\u001b[38;5;241m>\u001b[39m \u001b[38;5;28;01mNone\u001b[39;00m:\n\u001b[1;32m--> 238\u001b[0m     \u001b[38;5;28mself\u001b[39m\u001b[38;5;241m.\u001b[39msock \u001b[38;5;241m=\u001b[39m \u001b[38;5;28;43mself\u001b[39;49m\u001b[38;5;241;43m.\u001b[39;49m\u001b[43m_new_conn\u001b[49m\u001b[43m(\u001b[49m\u001b[43m)\u001b[49m\n\u001b[0;32m    239\u001b[0m     \u001b[38;5;28;01mif\u001b[39;00m \u001b[38;5;28mself\u001b[39m\u001b[38;5;241m.\u001b[39m_tunnel_host:\n\u001b[0;32m    240\u001b[0m         \u001b[38;5;66;03m# If we're tunneling it means we're connected to our proxy.\u001b[39;00m\n",
      "File \u001b[1;32mc:\\Users\\Sanduni\\anaconda3\\envs\\myenv\\lib\\site-packages\\urllib3\\connection.py:213\u001b[0m, in \u001b[0;36mHTTPConnection._new_conn\u001b[1;34m(self)\u001b[0m\n\u001b[0;32m    212\u001b[0m \u001b[38;5;28;01mexcept\u001b[39;00m \u001b[38;5;167;01mOSError\u001b[39;00m \u001b[38;5;28;01mas\u001b[39;00m e:\n\u001b[1;32m--> 213\u001b[0m     \u001b[38;5;28;01mraise\u001b[39;00m NewConnectionError(\n\u001b[0;32m    214\u001b[0m         \u001b[38;5;28mself\u001b[39m, \u001b[38;5;124mf\u001b[39m\u001b[38;5;124m\"\u001b[39m\u001b[38;5;124mFailed to establish a new connection: \u001b[39m\u001b[38;5;132;01m{\u001b[39;00me\u001b[38;5;132;01m}\u001b[39;00m\u001b[38;5;124m\"\u001b[39m\n\u001b[0;32m    215\u001b[0m     ) \u001b[38;5;28;01mfrom\u001b[39;00m \u001b[38;5;21;01me\u001b[39;00m\n\u001b[0;32m    217\u001b[0m \u001b[38;5;66;03m# Audit hooks are only available in Python 3.8+\u001b[39;00m\n",
      "\u001b[1;31mNewConnectionError\u001b[0m: <urllib3.connection.HTTPConnection object at 0x000001997D034070>: Failed to establish a new connection: [WinError 10061] No connection could be made because the target machine actively refused it",
      "\nThe above exception was the direct cause of the following exception:\n",
      "\u001b[1;31mMaxRetryError\u001b[0m                             Traceback (most recent call last)",
      "File \u001b[1;32mc:\\Users\\Sanduni\\anaconda3\\envs\\myenv\\lib\\site-packages\\requests\\adapters.py:486\u001b[0m, in \u001b[0;36mHTTPAdapter.send\u001b[1;34m(self, request, stream, timeout, verify, cert, proxies)\u001b[0m\n\u001b[0;32m    485\u001b[0m \u001b[38;5;28;01mtry\u001b[39;00m:\n\u001b[1;32m--> 486\u001b[0m     resp \u001b[38;5;241m=\u001b[39m \u001b[43mconn\u001b[49m\u001b[38;5;241;43m.\u001b[39;49m\u001b[43murlopen\u001b[49m\u001b[43m(\u001b[49m\n\u001b[0;32m    487\u001b[0m \u001b[43m        \u001b[49m\u001b[43mmethod\u001b[49m\u001b[38;5;241;43m=\u001b[39;49m\u001b[43mrequest\u001b[49m\u001b[38;5;241;43m.\u001b[39;49m\u001b[43mmethod\u001b[49m\u001b[43m,\u001b[49m\n\u001b[0;32m    488\u001b[0m \u001b[43m        \u001b[49m\u001b[43murl\u001b[49m\u001b[38;5;241;43m=\u001b[39;49m\u001b[43murl\u001b[49m\u001b[43m,\u001b[49m\n\u001b[0;32m    489\u001b[0m \u001b[43m        \u001b[49m\u001b[43mbody\u001b[49m\u001b[38;5;241;43m=\u001b[39;49m\u001b[43mrequest\u001b[49m\u001b[38;5;241;43m.\u001b[39;49m\u001b[43mbody\u001b[49m\u001b[43m,\u001b[49m\n\u001b[0;32m    490\u001b[0m \u001b[43m        \u001b[49m\u001b[43mheaders\u001b[49m\u001b[38;5;241;43m=\u001b[39;49m\u001b[43mrequest\u001b[49m\u001b[38;5;241;43m.\u001b[39;49m\u001b[43mheaders\u001b[49m\u001b[43m,\u001b[49m\n\u001b[0;32m    491\u001b[0m \u001b[43m        \u001b[49m\u001b[43mredirect\u001b[49m\u001b[38;5;241;43m=\u001b[39;49m\u001b[38;5;28;43;01mFalse\u001b[39;49;00m\u001b[43m,\u001b[49m\n\u001b[0;32m    492\u001b[0m \u001b[43m        \u001b[49m\u001b[43massert_same_host\u001b[49m\u001b[38;5;241;43m=\u001b[39;49m\u001b[38;5;28;43;01mFalse\u001b[39;49;00m\u001b[43m,\u001b[49m\n\u001b[0;32m    493\u001b[0m \u001b[43m        \u001b[49m\u001b[43mpreload_content\u001b[49m\u001b[38;5;241;43m=\u001b[39;49m\u001b[38;5;28;43;01mFalse\u001b[39;49;00m\u001b[43m,\u001b[49m\n\u001b[0;32m    494\u001b[0m \u001b[43m        \u001b[49m\u001b[43mdecode_content\u001b[49m\u001b[38;5;241;43m=\u001b[39;49m\u001b[38;5;28;43;01mFalse\u001b[39;49;00m\u001b[43m,\u001b[49m\n\u001b[0;32m    495\u001b[0m \u001b[43m        \u001b[49m\u001b[43mretries\u001b[49m\u001b[38;5;241;43m=\u001b[39;49m\u001b[38;5;28;43mself\u001b[39;49m\u001b[38;5;241;43m.\u001b[39;49m\u001b[43mmax_retries\u001b[49m\u001b[43m,\u001b[49m\n\u001b[0;32m    496\u001b[0m \u001b[43m        \u001b[49m\u001b[43mtimeout\u001b[49m\u001b[38;5;241;43m=\u001b[39;49m\u001b[43mtimeout\u001b[49m\u001b[43m,\u001b[49m\n\u001b[0;32m    497\u001b[0m \u001b[43m        \u001b[49m\u001b[43mchunked\u001b[49m\u001b[38;5;241;43m=\u001b[39;49m\u001b[43mchunked\u001b[49m\u001b[43m,\u001b[49m\n\u001b[0;32m    498\u001b[0m \u001b[43m    \u001b[49m\u001b[43m)\u001b[49m\n\u001b[0;32m    500\u001b[0m \u001b[38;5;28;01mexcept\u001b[39;00m (ProtocolError, \u001b[38;5;167;01mOSError\u001b[39;00m) \u001b[38;5;28;01mas\u001b[39;00m err:\n",
      "File \u001b[1;32mc:\\Users\\Sanduni\\anaconda3\\envs\\myenv\\lib\\site-packages\\urllib3\\connectionpool.py:847\u001b[0m, in \u001b[0;36mHTTPConnectionPool.urlopen\u001b[1;34m(self, method, url, body, headers, retries, redirect, assert_same_host, timeout, pool_timeout, release_conn, chunked, body_pos, preload_content, decode_content, **response_kw)\u001b[0m\n\u001b[0;32m    845\u001b[0m     new_e \u001b[38;5;241m=\u001b[39m ProtocolError(\u001b[38;5;124m\"\u001b[39m\u001b[38;5;124mConnection aborted.\u001b[39m\u001b[38;5;124m\"\u001b[39m, new_e)\n\u001b[1;32m--> 847\u001b[0m retries \u001b[38;5;241m=\u001b[39m \u001b[43mretries\u001b[49m\u001b[38;5;241;43m.\u001b[39;49m\u001b[43mincrement\u001b[49m\u001b[43m(\u001b[49m\n\u001b[0;32m    848\u001b[0m \u001b[43m    \u001b[49m\u001b[43mmethod\u001b[49m\u001b[43m,\u001b[49m\u001b[43m \u001b[49m\u001b[43murl\u001b[49m\u001b[43m,\u001b[49m\u001b[43m \u001b[49m\u001b[43merror\u001b[49m\u001b[38;5;241;43m=\u001b[39;49m\u001b[43mnew_e\u001b[49m\u001b[43m,\u001b[49m\u001b[43m \u001b[49m\u001b[43m_pool\u001b[49m\u001b[38;5;241;43m=\u001b[39;49m\u001b[38;5;28;43mself\u001b[39;49m\u001b[43m,\u001b[49m\u001b[43m \u001b[49m\u001b[43m_stacktrace\u001b[49m\u001b[38;5;241;43m=\u001b[39;49m\u001b[43msys\u001b[49m\u001b[38;5;241;43m.\u001b[39;49m\u001b[43mexc_info\u001b[49m\u001b[43m(\u001b[49m\u001b[43m)\u001b[49m\u001b[43m[\u001b[49m\u001b[38;5;241;43m2\u001b[39;49m\u001b[43m]\u001b[49m\n\u001b[0;32m    849\u001b[0m \u001b[43m\u001b[49m\u001b[43m)\u001b[49m\n\u001b[0;32m    850\u001b[0m retries\u001b[38;5;241m.\u001b[39msleep()\n",
      "File \u001b[1;32mc:\\Users\\Sanduni\\anaconda3\\envs\\myenv\\lib\\site-packages\\urllib3\\util\\retry.py:515\u001b[0m, in \u001b[0;36mRetry.increment\u001b[1;34m(self, method, url, response, error, _pool, _stacktrace)\u001b[0m\n\u001b[0;32m    514\u001b[0m     reason \u001b[38;5;241m=\u001b[39m error \u001b[38;5;129;01mor\u001b[39;00m ResponseError(cause)\n\u001b[1;32m--> 515\u001b[0m     \u001b[38;5;28;01mraise\u001b[39;00m MaxRetryError(_pool, url, reason) \u001b[38;5;28;01mfrom\u001b[39;00m \u001b[38;5;21;01mreason\u001b[39;00m  \u001b[38;5;66;03m# type: ignore[arg-type]\u001b[39;00m\n\u001b[0;32m    517\u001b[0m log\u001b[38;5;241m.\u001b[39mdebug(\u001b[38;5;124m\"\u001b[39m\u001b[38;5;124mIncremented Retry for (url=\u001b[39m\u001b[38;5;124m'\u001b[39m\u001b[38;5;132;01m%s\u001b[39;00m\u001b[38;5;124m'\u001b[39m\u001b[38;5;124m): \u001b[39m\u001b[38;5;132;01m%r\u001b[39;00m\u001b[38;5;124m\"\u001b[39m, url, new_retry)\n",
      "\u001b[1;31mMaxRetryError\u001b[0m: HTTPConnectionPool(host='127.0.0.1', port=8000): Max retries exceeded with url: /chat/fetch-api (Caused by NewConnectionError('<urllib3.connection.HTTPConnection object at 0x000001997D034070>: Failed to establish a new connection: [WinError 10061] No connection could be made because the target machine actively refused it'))",
      "\nDuring handling of the above exception, another exception occurred:\n",
      "\u001b[1;31mConnectionError\u001b[0m                           Traceback (most recent call last)",
      "Cell \u001b[1;32mIn[9], line 2\u001b[0m\n\u001b[0;32m      1\u001b[0m \u001b[38;5;28;01mwhile\u001b[39;00m \u001b[38;5;28;01mTrue\u001b[39;00m:\n\u001b[1;32m----> 2\u001b[0m     user_message \u001b[38;5;241m=\u001b[39m \u001b[43mrequests\u001b[49m\u001b[38;5;241;43m.\u001b[39;49m\u001b[43mget\u001b[49m\u001b[43m(\u001b[49m\u001b[43muser_url\u001b[49m\u001b[43m)\u001b[49m\u001b[38;5;241m.\u001b[39mjson()\n\u001b[0;32m      3\u001b[0m     \u001b[38;5;28;01mtry\u001b[39;00m:\n\u001b[0;32m      4\u001b[0m         \u001b[38;5;28;01mif\u001b[39;00m (\u001b[38;5;124m'\u001b[39m\u001b[38;5;124muuid\u001b[39m\u001b[38;5;124m'\u001b[39m \u001b[38;5;129;01min\u001b[39;00m user_message) \u001b[38;5;129;01mand\u001b[39;00m (\u001b[38;5;124m'\u001b[39m\u001b[38;5;124mmessage\u001b[39m\u001b[38;5;124m'\u001b[39m \u001b[38;5;129;01min\u001b[39;00m user_message):\n",
      "File \u001b[1;32mc:\\Users\\Sanduni\\anaconda3\\envs\\myenv\\lib\\site-packages\\requests\\api.py:73\u001b[0m, in \u001b[0;36mget\u001b[1;34m(url, params, **kwargs)\u001b[0m\n\u001b[0;32m     62\u001b[0m \u001b[38;5;28;01mdef\u001b[39;00m \u001b[38;5;21mget\u001b[39m(url, params\u001b[38;5;241m=\u001b[39m\u001b[38;5;28;01mNone\u001b[39;00m, \u001b[38;5;241m*\u001b[39m\u001b[38;5;241m*\u001b[39mkwargs):\n\u001b[0;32m     63\u001b[0m \u001b[38;5;250m    \u001b[39m\u001b[38;5;124mr\u001b[39m\u001b[38;5;124;03m\"\"\"Sends a GET request.\u001b[39;00m\n\u001b[0;32m     64\u001b[0m \n\u001b[0;32m     65\u001b[0m \u001b[38;5;124;03m    :param url: URL for the new :class:`Request` object.\u001b[39;00m\n\u001b[1;32m   (...)\u001b[0m\n\u001b[0;32m     70\u001b[0m \u001b[38;5;124;03m    :rtype: requests.Response\u001b[39;00m\n\u001b[0;32m     71\u001b[0m \u001b[38;5;124;03m    \"\"\"\u001b[39;00m\n\u001b[1;32m---> 73\u001b[0m     \u001b[38;5;28;01mreturn\u001b[39;00m \u001b[43mrequest\u001b[49m\u001b[43m(\u001b[49m\u001b[38;5;124;43m\"\u001b[39;49m\u001b[38;5;124;43mget\u001b[39;49m\u001b[38;5;124;43m\"\u001b[39;49m\u001b[43m,\u001b[49m\u001b[43m \u001b[49m\u001b[43murl\u001b[49m\u001b[43m,\u001b[49m\u001b[43m \u001b[49m\u001b[43mparams\u001b[49m\u001b[38;5;241;43m=\u001b[39;49m\u001b[43mparams\u001b[49m\u001b[43m,\u001b[49m\u001b[43m \u001b[49m\u001b[38;5;241;43m*\u001b[39;49m\u001b[38;5;241;43m*\u001b[39;49m\u001b[43mkwargs\u001b[49m\u001b[43m)\u001b[49m\n",
      "File \u001b[1;32mc:\\Users\\Sanduni\\anaconda3\\envs\\myenv\\lib\\site-packages\\requests\\api.py:59\u001b[0m, in \u001b[0;36mrequest\u001b[1;34m(method, url, **kwargs)\u001b[0m\n\u001b[0;32m     55\u001b[0m \u001b[38;5;66;03m# By using the 'with' statement we are sure the session is closed, thus we\u001b[39;00m\n\u001b[0;32m     56\u001b[0m \u001b[38;5;66;03m# avoid leaving sockets open which can trigger a ResourceWarning in some\u001b[39;00m\n\u001b[0;32m     57\u001b[0m \u001b[38;5;66;03m# cases, and look like a memory leak in others.\u001b[39;00m\n\u001b[0;32m     58\u001b[0m \u001b[38;5;28;01mwith\u001b[39;00m sessions\u001b[38;5;241m.\u001b[39mSession() \u001b[38;5;28;01mas\u001b[39;00m session:\n\u001b[1;32m---> 59\u001b[0m     \u001b[38;5;28;01mreturn\u001b[39;00m \u001b[43msession\u001b[49m\u001b[38;5;241;43m.\u001b[39;49m\u001b[43mrequest\u001b[49m\u001b[43m(\u001b[49m\u001b[43mmethod\u001b[49m\u001b[38;5;241;43m=\u001b[39;49m\u001b[43mmethod\u001b[49m\u001b[43m,\u001b[49m\u001b[43m \u001b[49m\u001b[43murl\u001b[49m\u001b[38;5;241;43m=\u001b[39;49m\u001b[43murl\u001b[49m\u001b[43m,\u001b[49m\u001b[43m \u001b[49m\u001b[38;5;241;43m*\u001b[39;49m\u001b[38;5;241;43m*\u001b[39;49m\u001b[43mkwargs\u001b[49m\u001b[43m)\u001b[49m\n",
      "File \u001b[1;32mc:\\Users\\Sanduni\\anaconda3\\envs\\myenv\\lib\\site-packages\\requests\\sessions.py:589\u001b[0m, in \u001b[0;36mSession.request\u001b[1;34m(self, method, url, params, data, headers, cookies, files, auth, timeout, allow_redirects, proxies, hooks, stream, verify, cert, json)\u001b[0m\n\u001b[0;32m    584\u001b[0m send_kwargs \u001b[38;5;241m=\u001b[39m {\n\u001b[0;32m    585\u001b[0m     \u001b[38;5;124m\"\u001b[39m\u001b[38;5;124mtimeout\u001b[39m\u001b[38;5;124m\"\u001b[39m: timeout,\n\u001b[0;32m    586\u001b[0m     \u001b[38;5;124m\"\u001b[39m\u001b[38;5;124mallow_redirects\u001b[39m\u001b[38;5;124m\"\u001b[39m: allow_redirects,\n\u001b[0;32m    587\u001b[0m }\n\u001b[0;32m    588\u001b[0m send_kwargs\u001b[38;5;241m.\u001b[39mupdate(settings)\n\u001b[1;32m--> 589\u001b[0m resp \u001b[38;5;241m=\u001b[39m \u001b[38;5;28;43mself\u001b[39;49m\u001b[38;5;241;43m.\u001b[39;49m\u001b[43msend\u001b[49m\u001b[43m(\u001b[49m\u001b[43mprep\u001b[49m\u001b[43m,\u001b[49m\u001b[43m \u001b[49m\u001b[38;5;241;43m*\u001b[39;49m\u001b[38;5;241;43m*\u001b[39;49m\u001b[43msend_kwargs\u001b[49m\u001b[43m)\u001b[49m\n\u001b[0;32m    591\u001b[0m \u001b[38;5;28;01mreturn\u001b[39;00m resp\n",
      "File \u001b[1;32mc:\\Users\\Sanduni\\anaconda3\\envs\\myenv\\lib\\site-packages\\requests\\sessions.py:703\u001b[0m, in \u001b[0;36mSession.send\u001b[1;34m(self, request, **kwargs)\u001b[0m\n\u001b[0;32m    700\u001b[0m start \u001b[38;5;241m=\u001b[39m preferred_clock()\n\u001b[0;32m    702\u001b[0m \u001b[38;5;66;03m# Send the request\u001b[39;00m\n\u001b[1;32m--> 703\u001b[0m r \u001b[38;5;241m=\u001b[39m \u001b[43madapter\u001b[49m\u001b[38;5;241;43m.\u001b[39;49m\u001b[43msend\u001b[49m\u001b[43m(\u001b[49m\u001b[43mrequest\u001b[49m\u001b[43m,\u001b[49m\u001b[43m \u001b[49m\u001b[38;5;241;43m*\u001b[39;49m\u001b[38;5;241;43m*\u001b[39;49m\u001b[43mkwargs\u001b[49m\u001b[43m)\u001b[49m\n\u001b[0;32m    705\u001b[0m \u001b[38;5;66;03m# Total elapsed time of the request (approximately)\u001b[39;00m\n\u001b[0;32m    706\u001b[0m elapsed \u001b[38;5;241m=\u001b[39m preferred_clock() \u001b[38;5;241m-\u001b[39m start\n",
      "File \u001b[1;32mc:\\Users\\Sanduni\\anaconda3\\envs\\myenv\\lib\\site-packages\\requests\\adapters.py:519\u001b[0m, in \u001b[0;36mHTTPAdapter.send\u001b[1;34m(self, request, stream, timeout, verify, cert, proxies)\u001b[0m\n\u001b[0;32m    515\u001b[0m     \u001b[38;5;28;01mif\u001b[39;00m \u001b[38;5;28misinstance\u001b[39m(e\u001b[38;5;241m.\u001b[39mreason, _SSLError):\n\u001b[0;32m    516\u001b[0m         \u001b[38;5;66;03m# This branch is for urllib3 v1.22 and later.\u001b[39;00m\n\u001b[0;32m    517\u001b[0m         \u001b[38;5;28;01mraise\u001b[39;00m SSLError(e, request\u001b[38;5;241m=\u001b[39mrequest)\n\u001b[1;32m--> 519\u001b[0m     \u001b[38;5;28;01mraise\u001b[39;00m \u001b[38;5;167;01mConnectionError\u001b[39;00m(e, request\u001b[38;5;241m=\u001b[39mrequest)\n\u001b[0;32m    521\u001b[0m \u001b[38;5;28;01mexcept\u001b[39;00m ClosedPoolError \u001b[38;5;28;01mas\u001b[39;00m e:\n\u001b[0;32m    522\u001b[0m     \u001b[38;5;28;01mraise\u001b[39;00m \u001b[38;5;167;01mConnectionError\u001b[39;00m(e, request\u001b[38;5;241m=\u001b[39mrequest)\n",
      "\u001b[1;31mConnectionError\u001b[0m: HTTPConnectionPool(host='127.0.0.1', port=8000): Max retries exceeded with url: /chat/fetch-api (Caused by NewConnectionError('<urllib3.connection.HTTPConnection object at 0x000001997D034070>: Failed to establish a new connection: [WinError 10061] No connection could be made because the target machine actively refused it'))"
     ]
    }
   ],
   "source": [
    "while True:\n",
    "    user_message = requests.get(user_url).json()\n",
    "    try:\n",
    "        if ('uuid' in user_message) and ('message' in user_message):\n",
    "            uuid = user_message.get('uuid')\n",
    "            message = str(user_message.get('message'))\n",
    "            bot_response = query_engine.query(message)\n",
    "            requests.get(response_url.format(uuid, bot_response))\n",
    "\n",
    "    except Exception as e:\n",
    "        print(f\"Invalid User Message : {user_message}\")"
   ]
  }
 ],
 "metadata": {
  "kernelspec": {
   "display_name": "langchain",
   "language": "python",
   "name": "python3"
  },
  "language_info": {
   "codemirror_mode": {
    "name": "ipython",
    "version": 3
   },
   "file_extension": ".py",
   "mimetype": "text/x-python",
   "name": "python",
   "nbconvert_exporter": "python",
   "pygments_lexer": "ipython3",
   "version": "3.8.19"
  }
 },
 "nbformat": 4,
 "nbformat_minor": 2
}
